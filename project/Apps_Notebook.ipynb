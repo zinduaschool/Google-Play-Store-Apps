{
 "cells": [
  {
   "cell_type": "markdown",
   "metadata": {},
   "source": [
    "### Setup Environment\n",
    "1. Download [Python](https://www.python.org/downloads/) and do 'Custom Install' (make sure pip is checked).\n",
    "2. Open Cmd or Terminal, and run the command `py --version` to confirm.\n",
    "3. Also run `pip install pymysql`, then run `pip install ipython-sql`.\n",
    "4. Finally run `pip install ipykernel`, then close the cmd or terminal."
   ]
  },
  {
   "cell_type": "code",
   "execution_count": 1,
   "metadata": {},
   "outputs": [],
   "source": [
    "import pymysql"
   ]
  },
  {
   "cell_type": "markdown",
   "metadata": {},
   "source": [
    "### Load SQL"
   ]
  },
  {
   "cell_type": "code",
   "execution_count": 2,
   "metadata": {},
   "outputs": [],
   "source": [
    "%load_ext sql"
   ]
  },
  {
   "cell_type": "markdown",
   "metadata": {},
   "source": [
    "### Create/Load Database"
   ]
  },
  {
   "cell_type": "code",
   "execution_count": 3,
   "metadata": {},
   "outputs": [],
   "source": [
    "%%sql\n",
    "\n",
    "sqlite:///google_play_store_apps.db"
   ]
  },
  {
   "cell_type": "markdown",
   "metadata": {},
   "source": [
    "### Create Tables"
   ]
  },
  {
   "cell_type": "markdown",
   "metadata": {},
   "source": [
    "![ER Diagram](ERD%20-%20Google%20Play%20Store%20Apps.png)"
   ]
  },
  {
   "cell_type": "code",
   "execution_count": 4,
   "metadata": {},
   "outputs": [
    {
     "name": "stdout",
     "output_type": "stream",
     "text": [
      " * sqlite:///google_play_store_apps.db\n",
      "Done.\n",
      "Done.\n"
     ]
    },
    {
     "data": {
      "text/plain": [
       "[]"
      ]
     },
     "execution_count": 4,
     "metadata": {},
     "output_type": "execute_result"
    }
   ],
   "source": [
    "%%sql\n",
    "\n",
    "CREATE TABLE googleplaystore (\n",
    "    app_id INTEGER(15),\n",
    "    app_name VARCHAR(100),\n",
    "    category VARCHAR(50),\n",
    "    rating DECIMAL(2,1),\n",
    "    reviews INTEGER(15),\n",
    "    size VARCHAR(15),\n",
    "    installs VARCHAR(50),\n",
    "    app_type VARCHAR(15),\n",
    "    price VARCHAR(15),\n",
    "    content_rating VARCHAR(15),\n",
    "    genres VARCHAR(50),\n",
    "    last_updated DATE,\n",
    "    current_ver VARCHAR(50),\n",
    "    android_ver VARCHAR(15),\n",
    "    PRIMARY KEY (app_id)\n",
    ");\n",
    "\n",
    "CREATE TABLE googleplaystore_user_reviews (\n",
    "    review_id INTEGER(15),\n",
    "    app_id INTEGER(15),\n",
    "    app_name VARCHAR(100),\n",
    "    translated_review VARCHAR(100),\n",
    "    sentiment VARCHAR(15),\n",
    "    sentiment_polarity DECIMAL(2,10),\n",
    "    sentiment_subjectivity DECIMAL(2,10),\n",
    "    PRIMARY KEY (review_id),\n",
    "    FOREIGN KEY (app_id) REFERENCES google_playstore(app_id)\n",
    ");"
   ]
  },
  {
   "cell_type": "markdown",
   "metadata": {},
   "source": [
    "### Insert Data Into Tables"
   ]
  },
  {
   "cell_type": "code",
   "execution_count": 5,
   "metadata": {},
   "outputs": [
    {
     "name": "stdout",
     "output_type": "stream",
     "text": [
      " * sqlite:///google_play_store_apps.db\n",
      "10 rows affected.\n",
      "10 rows affected.\n"
     ]
    },
    {
     "data": {
      "text/plain": [
       "[]"
      ]
     },
     "execution_count": 5,
     "metadata": {},
     "output_type": "execute_result"
    }
   ],
   "source": [
    "%%sql\n",
    "\n",
    "INSERT INTO googleplaystore (app_id, app_name, category, rating, reviews, size, installs, app_type, price, content_rating, genres, last_updated, current_ver, android_ver) VALUES \n",
    "    (1, 'Moco+ - Chat, Meet People', 'DATING', 4.2, 1545, 'Varies with device', '10,000+', 'Paid', '$3.99', 'Mature 17+', 'Dating', '2018-06-19', '2.6.139', '4.1 and up'),\n",
    "    (2, 'YouTube Kids', 'FAMILY', 4.5, 470694, 'Varies with device', '50,000,000+', 'Free', 0,\t'Everyone', 'Entertainment;Music & Video', '2018-08-03', '3.43.3', '4.1 and up'),\n",
    "    (3, 'Subway Surfers', 'GAME', 4.5, 27722264, '76M', '1,000,000,000+', 'Free', 0, 'Everyone 10+', 'Arcade', '2018-07-12', '1.90.0', '4.1 and up'),\n",
    "    (4, 'McDonalds', 'FOOD_AND_DRINK', 3.6, 145323, '42M', '10,000,000+', 'Free', 0, 'Everyone', 'Food & Drink', '2018-07-31', '5.15.0', '4.4 and up'),\n",
    "    (5, 'Pocket Yoga', 'HEALTH_AND_FITNESS', 4.4, 2107, 'Varies with device', '100,000+', 'Paid', '$2.99', 'Everyone', 'Health & Fitness', '2015-12-22', 'Varies with device', 'Varies with device'),\n",
    "    (6, 'Uber Driver', 'BUSINESS',\t4.4, 1254730, 'Varies with device', '10,000,000+', 'Free', 0, 'Everyone', 'Business', '2018-08-03', 'Varies with device', 'Varies with device'),\n",
    "    (7, 'WhatsApp Messenger', 'COMMUNICATION',\t4.4, 69119316, 'Varies with device', '1,000,000,000+', 'Free', 0, 'Everyone', 'Communication', '2018-08-03', 'Varies with device', 'Varies with device'),\n",
    "    (8, 'Duolingo: Learn Languages Free', 'EDUCATION', 4.7, 6289924, 'Varies with device', '100,000,000+', 'Free', 0, 'Everyone', 'Education;Education', '2018-08-01',\t'Varies with device', 'Varies with device'),\n",
    "    (9, 'Netflix',\t'ENTERTAINMENT', 4.4, 5456208, 'Varies with device', '100,000,000+', 'Free', 0, 'Teen', 'Entertainment', '2018-07-31', 'Varies with device', 'Varies with device'),\n",
    "    (10, 'Star Wars â„¢: DIRTY', 'GAME', 4.5, 38207, '15M', '100,000+', 'Paid', '$9.99', 'Teen', 'Role Playing', '2015-10-19', '1.0.6', '4.1 and up');\n",
    "\n",
    "\n",
    "INSERT INTO googleplaystore_user_reviews (review_id, app_id, app_name, translated_review, sentiment, sentiment_polarity, sentiment_subjectivity) VALUES\n",
    "    (1, 11, 'BBC News', 'Very mainstream. Anti-American almost CNN level. The well designed fluid. Content gets far left score, top notch.', 'Positive', 0.16, 0.38),\n",
    "    (2, 12, 'Amazon Shopping', 'Terrible change way switch wishlists. When scrolling list, delay link appears top screen change different list.', 'Negative', -0.166666667, 0.7),\n",
    "    (3, 13, 'Candy Crush Saga', 'Please get rid amount pop ups love things holy, change suggestion move speed. Way fast. I like able think moves without bouncing candy distracting me. Other that, love game. I like challenging levels, like getting free items. I jackpot years i have playing. Would like see others win too.', 'Positive', 0.319444444, 0.6),\n",
    "    (4, 14, 'DStv Now', 'I think usability considered new Android TV designed. The grid view update good get channels. It mission get channel want horizontal list view. When comes Android TV app, considered users using remote touch screen :-(', 'Negative', -0.003409091, 0.563636364),\n",
    "    (5, 15, 'E*TRADE Mobile', 'Works well. Wish could keep screen quote view plugged in.', 'Neutral', 0, 0),\n",
    "    (6, 8, 'Duolingo: Learn Languages Free', 'I love app. It helpful, convenient easy use. There error I wish fixed. For example learning Italian asked translate \"yes please\" \"per favore\" phone auto corrected \"per favor\" get question wrong. However I am confident get better easier time', 'Positive', 0.219047619, 0.552380952),\n",
    "    (7, 16, 'Comedy Central', 'I understand \"remodeled\" I see trying I find pretty terrible AND HORRIBLE intuition. Why would I want watch Daily Show backwards order? Why auto-playing second-oldest episode newest? And Season 5 Drunk History completely order--I have look show IMDB find heck I spring hiatus. Please get s*** together, ok?', 'Negative', -0.235714286, 0.7),\n",
    "    (8, 17, 'British Airways',\t'The latest update says includes fix users logged unexpectedly - well, fixed. Every single time I open I logged even though I chose stay logged times. I flown BA Saturday, due fly today I am print paper boarding passes keeps letting logging',\t'Positive', 0.18622449, 0.584183673),\n",
    "    (9, 18, 'Asphalt 8: Airborne', 'After latest upgrade, shows black screen game runs. Even tracks visible. I using Samsung Note 2, crappy mobile. Please get game fixed ASAP.', 'Negative', -0.073333333, 0.466666667),\n",
    "    (10, 20, '365Scores - Live Scores',\t'Please, update player list liga 1 indonesia.', 'Neutral', 0, 0);"
   ]
  },
  {
   "cell_type": "markdown",
   "metadata": {},
   "source": [
    "### Display Data from Tables"
   ]
  },
  {
   "cell_type": "code",
   "execution_count": 6,
   "metadata": {},
   "outputs": [
    {
     "name": "stdout",
     "output_type": "stream",
     "text": [
      " * sqlite:///google_play_store_apps.db\n",
      "Done.\n"
     ]
    },
    {
     "data": {
      "text/html": [
       "<table>\n",
       "    <thead>\n",
       "        <tr>\n",
       "            <th>app_id</th>\n",
       "            <th>app_name</th>\n",
       "            <th>category</th>\n",
       "            <th>rating</th>\n",
       "            <th>reviews</th>\n",
       "            <th>size</th>\n",
       "            <th>installs</th>\n",
       "            <th>app_type</th>\n",
       "            <th>price</th>\n",
       "            <th>content_rating</th>\n",
       "            <th>genres</th>\n",
       "            <th>last_updated</th>\n",
       "            <th>current_ver</th>\n",
       "            <th>android_ver</th>\n",
       "        </tr>\n",
       "    </thead>\n",
       "    <tbody>\n",
       "        <tr>\n",
       "            <td>1</td>\n",
       "            <td>Moco+ - Chat, Meet People</td>\n",
       "            <td>DATING</td>\n",
       "            <td>4.2</td>\n",
       "            <td>1545</td>\n",
       "            <td>Varies with device</td>\n",
       "            <td>10,000+</td>\n",
       "            <td>Paid</td>\n",
       "            <td>$3.99</td>\n",
       "            <td>Mature 17+</td>\n",
       "            <td>Dating</td>\n",
       "            <td>2018-06-19</td>\n",
       "            <td>2.6.139</td>\n",
       "            <td>4.1 and up</td>\n",
       "        </tr>\n",
       "        <tr>\n",
       "            <td>2</td>\n",
       "            <td>YouTube Kids</td>\n",
       "            <td>FAMILY</td>\n",
       "            <td>4.5</td>\n",
       "            <td>470694</td>\n",
       "            <td>Varies with device</td>\n",
       "            <td>50,000,000+</td>\n",
       "            <td>Free</td>\n",
       "            <td>0</td>\n",
       "            <td>Everyone</td>\n",
       "            <td>Entertainment;Music &amp; Video</td>\n",
       "            <td>2018-08-03</td>\n",
       "            <td>3.43.3</td>\n",
       "            <td>4.1 and up</td>\n",
       "        </tr>\n",
       "        <tr>\n",
       "            <td>3</td>\n",
       "            <td>Subway Surfers</td>\n",
       "            <td>GAME</td>\n",
       "            <td>4.5</td>\n",
       "            <td>27722264</td>\n",
       "            <td>76M</td>\n",
       "            <td>1,000,000,000+</td>\n",
       "            <td>Free</td>\n",
       "            <td>0</td>\n",
       "            <td>Everyone 10+</td>\n",
       "            <td>Arcade</td>\n",
       "            <td>2018-07-12</td>\n",
       "            <td>1.90.0</td>\n",
       "            <td>4.1 and up</td>\n",
       "        </tr>\n",
       "        <tr>\n",
       "            <td>4</td>\n",
       "            <td>McDonalds</td>\n",
       "            <td>FOOD_AND_DRINK</td>\n",
       "            <td>3.6</td>\n",
       "            <td>145323</td>\n",
       "            <td>42M</td>\n",
       "            <td>10,000,000+</td>\n",
       "            <td>Free</td>\n",
       "            <td>0</td>\n",
       "            <td>Everyone</td>\n",
       "            <td>Food &amp; Drink</td>\n",
       "            <td>2018-07-31</td>\n",
       "            <td>5.15.0</td>\n",
       "            <td>4.4 and up</td>\n",
       "        </tr>\n",
       "        <tr>\n",
       "            <td>5</td>\n",
       "            <td>Pocket Yoga</td>\n",
       "            <td>HEALTH_AND_FITNESS</td>\n",
       "            <td>4.4</td>\n",
       "            <td>2107</td>\n",
       "            <td>Varies with device</td>\n",
       "            <td>100,000+</td>\n",
       "            <td>Paid</td>\n",
       "            <td>$2.99</td>\n",
       "            <td>Everyone</td>\n",
       "            <td>Health &amp; Fitness</td>\n",
       "            <td>2015-12-22</td>\n",
       "            <td>Varies with device</td>\n",
       "            <td>Varies with device</td>\n",
       "        </tr>\n",
       "        <tr>\n",
       "            <td>6</td>\n",
       "            <td>Uber Driver</td>\n",
       "            <td>BUSINESS</td>\n",
       "            <td>4.4</td>\n",
       "            <td>1254730</td>\n",
       "            <td>Varies with device</td>\n",
       "            <td>10,000,000+</td>\n",
       "            <td>Free</td>\n",
       "            <td>0</td>\n",
       "            <td>Everyone</td>\n",
       "            <td>Business</td>\n",
       "            <td>2018-08-03</td>\n",
       "            <td>Varies with device</td>\n",
       "            <td>Varies with device</td>\n",
       "        </tr>\n",
       "        <tr>\n",
       "            <td>7</td>\n",
       "            <td>WhatsApp Messenger</td>\n",
       "            <td>COMMUNICATION</td>\n",
       "            <td>4.4</td>\n",
       "            <td>69119316</td>\n",
       "            <td>Varies with device</td>\n",
       "            <td>1,000,000,000+</td>\n",
       "            <td>Free</td>\n",
       "            <td>0</td>\n",
       "            <td>Everyone</td>\n",
       "            <td>Communication</td>\n",
       "            <td>2018-08-03</td>\n",
       "            <td>Varies with device</td>\n",
       "            <td>Varies with device</td>\n",
       "        </tr>\n",
       "        <tr>\n",
       "            <td>8</td>\n",
       "            <td>Duolingo: Learn Languages Free</td>\n",
       "            <td>EDUCATION</td>\n",
       "            <td>4.7</td>\n",
       "            <td>6289924</td>\n",
       "            <td>Varies with device</td>\n",
       "            <td>100,000,000+</td>\n",
       "            <td>Free</td>\n",
       "            <td>0</td>\n",
       "            <td>Everyone</td>\n",
       "            <td>Education;Education</td>\n",
       "            <td>2018-08-01</td>\n",
       "            <td>Varies with device</td>\n",
       "            <td>Varies with device</td>\n",
       "        </tr>\n",
       "        <tr>\n",
       "            <td>9</td>\n",
       "            <td>Netflix</td>\n",
       "            <td>ENTERTAINMENT</td>\n",
       "            <td>4.4</td>\n",
       "            <td>5456208</td>\n",
       "            <td>Varies with device</td>\n",
       "            <td>100,000,000+</td>\n",
       "            <td>Free</td>\n",
       "            <td>0</td>\n",
       "            <td>Teen</td>\n",
       "            <td>Entertainment</td>\n",
       "            <td>2018-07-31</td>\n",
       "            <td>Varies with device</td>\n",
       "            <td>Varies with device</td>\n",
       "        </tr>\n",
       "        <tr>\n",
       "            <td>10</td>\n",
       "            <td>Star Wars â„¢: DIRTY</td>\n",
       "            <td>GAME</td>\n",
       "            <td>4.5</td>\n",
       "            <td>38207</td>\n",
       "            <td>15M</td>\n",
       "            <td>100,000+</td>\n",
       "            <td>Paid</td>\n",
       "            <td>$9.99</td>\n",
       "            <td>Teen</td>\n",
       "            <td>Role Playing</td>\n",
       "            <td>2015-10-19</td>\n",
       "            <td>1.0.6</td>\n",
       "            <td>4.1 and up</td>\n",
       "        </tr>\n",
       "    </tbody>\n",
       "</table>"
      ],
      "text/plain": [
       "[(1, 'Moco+ - Chat, Meet People', 'DATING', 4.2, 1545, 'Varies with device', '10,000+', 'Paid', '$3.99', 'Mature 17+', 'Dating', '2018-06-19', '2.6.139', '4.1 and up'),\n",
       " (2, 'YouTube Kids', 'FAMILY', 4.5, 470694, 'Varies with device', '50,000,000+', 'Free', '0', 'Everyone', 'Entertainment;Music & Video', '2018-08-03', '3.43.3', '4.1 and up'),\n",
       " (3, 'Subway Surfers', 'GAME', 4.5, 27722264, '76M', '1,000,000,000+', 'Free', '0', 'Everyone 10+', 'Arcade', '2018-07-12', '1.90.0', '4.1 and up'),\n",
       " (4, 'McDonalds', 'FOOD_AND_DRINK', 3.6, 145323, '42M', '10,000,000+', 'Free', '0', 'Everyone', 'Food & Drink', '2018-07-31', '5.15.0', '4.4 and up'),\n",
       " (5, 'Pocket Yoga', 'HEALTH_AND_FITNESS', 4.4, 2107, 'Varies with device', '100,000+', 'Paid', '$2.99', 'Everyone', 'Health & Fitness', '2015-12-22', 'Varies with device', 'Varies with device'),\n",
       " (6, 'Uber Driver', 'BUSINESS', 4.4, 1254730, 'Varies with device', '10,000,000+', 'Free', '0', 'Everyone', 'Business', '2018-08-03', 'Varies with device', 'Varies with device'),\n",
       " (7, 'WhatsApp Messenger', 'COMMUNICATION', 4.4, 69119316, 'Varies with device', '1,000,000,000+', 'Free', '0', 'Everyone', 'Communication', '2018-08-03', 'Varies with device', 'Varies with device'),\n",
       " (8, 'Duolingo: Learn Languages Free', 'EDUCATION', 4.7, 6289924, 'Varies with device', '100,000,000+', 'Free', '0', 'Everyone', 'Education;Education', '2018-08-01', 'Varies with device', 'Varies with device'),\n",
       " (9, 'Netflix', 'ENTERTAINMENT', 4.4, 5456208, 'Varies with device', '100,000,000+', 'Free', '0', 'Teen', 'Entertainment', '2018-07-31', 'Varies with device', 'Varies with device'),\n",
       " (10, 'Star Wars â„¢: DIRTY', 'GAME', 4.5, 38207, '15M', '100,000+', 'Paid', '$9.99', 'Teen', 'Role Playing', '2015-10-19', '1.0.6', '4.1 and up')]"
      ]
     },
     "execution_count": 6,
     "metadata": {},
     "output_type": "execute_result"
    }
   ],
   "source": [
    "%%sql\n",
    "\n",
    "SELECT * FROM googleplaystore;"
   ]
  },
  {
   "cell_type": "code",
   "execution_count": 7,
   "metadata": {},
   "outputs": [
    {
     "name": "stdout",
     "output_type": "stream",
     "text": [
      " * sqlite:///google_play_store_apps.db\n",
      "Done.\n"
     ]
    },
    {
     "data": {
      "text/html": [
       "<table>\n",
       "    <thead>\n",
       "        <tr>\n",
       "            <th>review_id</th>\n",
       "            <th>app_id</th>\n",
       "            <th>app_name</th>\n",
       "            <th>translated_review</th>\n",
       "            <th>sentiment</th>\n",
       "            <th>sentiment_polarity</th>\n",
       "            <th>sentiment_subjectivity</th>\n",
       "        </tr>\n",
       "    </thead>\n",
       "    <tbody>\n",
       "        <tr>\n",
       "            <td>1</td>\n",
       "            <td>11</td>\n",
       "            <td>BBC News</td>\n",
       "            <td>Very mainstream. Anti-American almost CNN level. The well designed fluid. Content gets far left score, top notch.</td>\n",
       "            <td>Positive</td>\n",
       "            <td>0.16</td>\n",
       "            <td>0.38</td>\n",
       "        </tr>\n",
       "        <tr>\n",
       "            <td>2</td>\n",
       "            <td>12</td>\n",
       "            <td>Amazon Shopping</td>\n",
       "            <td>Terrible change way switch wishlists. When scrolling list, delay link appears top screen change different list.</td>\n",
       "            <td>Negative</td>\n",
       "            <td>-0.166666667</td>\n",
       "            <td>0.7</td>\n",
       "        </tr>\n",
       "        <tr>\n",
       "            <td>3</td>\n",
       "            <td>13</td>\n",
       "            <td>Candy Crush Saga</td>\n",
       "            <td>Please get rid amount pop ups love things holy, change suggestion move speed. Way fast. I like able think moves without bouncing candy distracting me. Other that, love game. I like challenging levels, like getting free items. I jackpot years i have playing. Would like see others win too.</td>\n",
       "            <td>Positive</td>\n",
       "            <td>0.319444444</td>\n",
       "            <td>0.6</td>\n",
       "        </tr>\n",
       "        <tr>\n",
       "            <td>4</td>\n",
       "            <td>14</td>\n",
       "            <td>DStv Now</td>\n",
       "            <td>I think usability considered new Android TV designed. The grid view update good get channels. It mission get channel want horizontal list view. When comes Android TV app, considered users using remote touch screen :-(</td>\n",
       "            <td>Negative</td>\n",
       "            <td>-0.003409091</td>\n",
       "            <td>0.563636364</td>\n",
       "        </tr>\n",
       "        <tr>\n",
       "            <td>5</td>\n",
       "            <td>15</td>\n",
       "            <td>E*TRADE Mobile</td>\n",
       "            <td>Works well. Wish could keep screen quote view plugged in.</td>\n",
       "            <td>Neutral</td>\n",
       "            <td>0</td>\n",
       "            <td>0</td>\n",
       "        </tr>\n",
       "        <tr>\n",
       "            <td>6</td>\n",
       "            <td>8</td>\n",
       "            <td>Duolingo: Learn Languages Free</td>\n",
       "            <td>I love app. It helpful, convenient easy use. There error I wish fixed. For example learning Italian asked translate &quot;yes please&quot; &quot;per favore&quot; phone auto corrected &quot;per favor&quot; get question wrong. However I am confident get better easier time</td>\n",
       "            <td>Positive</td>\n",
       "            <td>0.219047619</td>\n",
       "            <td>0.552380952</td>\n",
       "        </tr>\n",
       "        <tr>\n",
       "            <td>7</td>\n",
       "            <td>16</td>\n",
       "            <td>Comedy Central</td>\n",
       "            <td>I understand &quot;remodeled&quot; I see trying I find pretty terrible AND HORRIBLE intuition. Why would I want watch Daily Show backwards order? Why auto-playing second-oldest episode newest? And Season 5 Drunk History completely order--I have look show IMDB find heck I spring hiatus. Please get s*** together, ok?</td>\n",
       "            <td>Negative</td>\n",
       "            <td>-0.235714286</td>\n",
       "            <td>0.7</td>\n",
       "        </tr>\n",
       "        <tr>\n",
       "            <td>8</td>\n",
       "            <td>17</td>\n",
       "            <td>British Airways</td>\n",
       "            <td>The latest update says includes fix users logged unexpectedly - well, fixed. Every single time I open I logged even though I chose stay logged times. I flown BA Saturday, due fly today I am print paper boarding passes keeps letting logging</td>\n",
       "            <td>Positive</td>\n",
       "            <td>0.18622449</td>\n",
       "            <td>0.584183673</td>\n",
       "        </tr>\n",
       "        <tr>\n",
       "            <td>9</td>\n",
       "            <td>18</td>\n",
       "            <td>Asphalt 8: Airborne</td>\n",
       "            <td>After latest upgrade, shows black screen game runs. Even tracks visible. I using Samsung Note 2, crappy mobile. Please get game fixed ASAP.</td>\n",
       "            <td>Negative</td>\n",
       "            <td>-0.073333333</td>\n",
       "            <td>0.466666667</td>\n",
       "        </tr>\n",
       "        <tr>\n",
       "            <td>10</td>\n",
       "            <td>20</td>\n",
       "            <td>365Scores - Live Scores</td>\n",
       "            <td>Please, update player list liga 1 indonesia.</td>\n",
       "            <td>Neutral</td>\n",
       "            <td>0</td>\n",
       "            <td>0</td>\n",
       "        </tr>\n",
       "    </tbody>\n",
       "</table>"
      ],
      "text/plain": [
       "[(1, 11, 'BBC News', 'Very mainstream. Anti-American almost CNN level. The well designed fluid. Content gets far left score, top notch.', 'Positive', 0.16, 0.38),\n",
       " (2, 12, 'Amazon Shopping', 'Terrible change way switch wishlists. When scrolling list, delay link appears top screen change different list.', 'Negative', -0.166666667, 0.7),\n",
       " (3, 13, 'Candy Crush Saga', 'Please get rid amount pop ups love things holy, change suggestion move speed. Way fast. I like able think moves without bouncing candy distracting me. Other that, love game. I like challenging levels, like getting free items. I jackpot years i have playing. Would like see others win too.', 'Positive', 0.319444444, 0.6),\n",
       " (4, 14, 'DStv Now', 'I think usability considered new Android TV designed. The grid view update good get channels. It mission get channel want horizontal list view. When comes Android TV app, considered users using remote touch screen :-(', 'Negative', -0.003409091, 0.563636364),\n",
       " (5, 15, 'E*TRADE Mobile', 'Works well. Wish could keep screen quote view plugged in.', 'Neutral', 0, 0),\n",
       " (6, 8, 'Duolingo: Learn Languages Free', 'I love app. It helpful, convenient easy use. There error I wish fixed. For example learning Italian asked translate \"yes please\" \"per favore\" phone auto corrected \"per favor\" get question wrong. However I am confident get better easier time', 'Positive', 0.219047619, 0.552380952),\n",
       " (7, 16, 'Comedy Central', 'I understand \"remodeled\" I see trying I find pretty terrible AND HORRIBLE intuition. Why would I want watch Daily Show backwards order? Why auto-play ... (8 characters truncated) ... nd-oldest episode newest? And Season 5 Drunk History completely order--I have look show IMDB find heck I spring hiatus. Please get s*** together, ok?', 'Negative', -0.235714286, 0.7),\n",
       " (8, 17, 'British Airways', 'The latest update says includes fix users logged unexpectedly - well, fixed. Every single time I open I logged even though I chose stay logged times. I flown BA Saturday, due fly today I am print paper boarding passes keeps letting logging', 'Positive', 0.18622449, 0.584183673),\n",
       " (9, 18, 'Asphalt 8: Airborne', 'After latest upgrade, shows black screen game runs. Even tracks visible. I using Samsung Note 2, crappy mobile. Please get game fixed ASAP.', 'Negative', -0.073333333, 0.466666667),\n",
       " (10, 20, '365Scores - Live Scores', 'Please, update player list liga 1 indonesia.', 'Neutral', 0, 0)]"
      ]
     },
     "execution_count": 7,
     "metadata": {},
     "output_type": "execute_result"
    }
   ],
   "source": [
    "%%sql\n",
    "\n",
    "SELECT * FROM googleplaystore_user_reviews;"
   ]
  }
 ],
 "metadata": {
  "kernelspec": {
   "display_name": "Python 3",
   "language": "python",
   "name": "python3"
  },
  "language_info": {
   "codemirror_mode": {
    "name": "ipython",
    "version": 3
   },
   "file_extension": ".py",
   "mimetype": "text/x-python",
   "name": "python",
   "nbconvert_exporter": "python",
   "pygments_lexer": "ipython3",
   "version": "3.12.0"
  }
 },
 "nbformat": 4,
 "nbformat_minor": 2
}
